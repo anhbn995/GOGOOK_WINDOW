{
 "cells": [
  {
   "cell_type": "code",
   "execution_count": null,
   "metadata": {},
   "outputs": [],
   "source": [
    "import rasterio\n",
    "import numpy as np\n",
    "\n",
    "# fp_img = r\"E:\\WORK\\Mongodia\\ThuDo_monggo\\Data_training\\predict\\Dense_v2_model_Dense_add2Dense_2022_04_20with17h04m40s_label_mask_nobuildup.tif\"\n",
    "# fp_buildUp = r\"X:\\Linh\\stack_capital\\Img_same_size\\stress_8bit_perimage\\stress\\aaa.tif\"\n",
    "\n",
    "fp_img = r\"E:\\WORK\\Mongodia\\ThuDo_monggo\\Data_training\\predict\\Dense_v2_model_Dense_add2Dense_2022_04_20with17h04m40s_label_mask_nobuildup.tif\"\n",
    "fp_buildUp = r\"X:\\Linh\\stack_capital\\Img_same_size\\stress_8bit_perimage\\stress\\aaa.tif\"\n",
    "\n",
    "src_img = rasterio.open(fp_img)\n",
    "src_buid = rasterio.open(fp_buildUp)\n",
    "\n",
    "index_build = np.where(src_buid.read()==255)\n",
    "mask = src_img.read() + 1\n",
    "index_2 = np.where(mask == 2)\n",
    "mask[index_2] = 1\n",
    "mask[index_build] = 2\n",
    "mask = mask - 1\n",
    "with rasterio.open(fp_img, \"r+\") as dst:\n",
    "    dst.write(mask)\n",
    "    dst.write_colormap(\n",
    "                    1, {\n",
    "                        1: (237,2,42,255),\n",
    "                        2: (255,219,92,255),\n",
    "                        3:(167,210,130,255),\n",
    "                        4:(200,200,200,255),\n",
    "                        5:(238,207,168,255),\n",
    "                        6:(53,130,33,255),\n",
    "                        7:(26,91,171,255)\n",
    "                         })"
   ]
  },
  {
   "cell_type": "code",
   "execution_count": null,
   "metadata": {},
   "outputs": [],
   "source": []
  }
 ],
 "metadata": {
  "interpreter": {
   "hash": "bc63a6eef95843afe201fce49e80730796a68a524bff5092aa076c4c583efa68"
  },
  "kernelspec": {
   "display_name": "Python 3.6.13 ('mlenv')",
   "language": "python",
   "name": "python3"
  },
  "language_info": {
   "name": "python",
   "version": "3.6.13"
  },
  "orig_nbformat": 4
 },
 "nbformat": 4,
 "nbformat_minor": 2
}
