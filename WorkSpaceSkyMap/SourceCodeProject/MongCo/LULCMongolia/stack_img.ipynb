{
 "cells": [
  {
   "cell_type": "code",
   "execution_count": 153,
   "metadata": {},
   "outputs": [],
   "source": [
    "import os\n",
    "import rasterio\n",
    "import numpy as np\n",
    "from datetime import datetime"
   ]
  },
  {
   "cell_type": "code",
   "execution_count": 154,
   "metadata": {},
   "outputs": [],
   "source": [
    "def get_list_image_by_time(dir_img):\n",
    "    list_name_file = os.listdir(dir_img)\n",
    "    print(list_name_file)\n",
    "    list_time = []\n",
    "    for name in list_name_file:\n",
    "        list_time.append(name[17:25])\n",
    "    list_time.sort(key=lambda date: datetime.strptime(date, '%Y%m%d'))\n",
    "    list_fp_chose = []\n",
    "    for name_file_sort in list_time[:9]:\n",
    "        name_file = [s for s in list_name_file if name_file_sort in s][0]\n",
    "        list_fp_chose.append(os.path.join(dir_img, name_file))\n",
    "    return list_time[:9], list_fp_chose"
   ]
  },
  {
   "cell_type": "code",
   "execution_count": 155,
   "metadata": {},
   "outputs": [],
   "source": [
    "def stack_image(list_fp, out_fp_stack):\n",
    "    profile = rasterio.open(list_fp[0]).profile\n",
    "    profile.update(count=63)\n",
    "    \n",
    "    list_band = []\n",
    "    for fp in list_fp:\n",
    "        img = rasterio.open(fp).read()\n",
    "        list_band.append(img)\n",
    "    data_stack = np.concatenate(list_band, axis=0)\n",
    "    print(data_stack.shape)\n",
    "    with rasterio.open(out_fp_stack, 'w', **profile) as dst:\n",
    "        dst.write(data_stack)"
   ]
  },
  {
   "cell_type": "code",
   "execution_count": 156,
   "metadata": {},
   "outputs": [],
   "source": [
    "def create_info(list_fp_chose, img_BF, percentile):\n",
    "    list_name = []\n",
    "    for fp in list_fp_chose:\n",
    "        list_name.append(os.path.basename(fp))\n",
    "    index = list_name.index(img_BF)\n",
    "    index_band = [index*7, index*7 + 7]\n",
    "    percentile_oke = {}\n",
    "    for i in percentile:\n",
    "        percentile_oke[index_band[0]+i] = percentile[i]\n",
    "    return {'list_img_chose':list_name, 'img_building': img_BF, 'index_band': index_band, 'percentile': percentile_oke}\n",
    "    "
   ]
  },
  {
   "cell_type": "code",
   "execution_count": 157,
   "metadata": {},
   "outputs": [],
   "source": [
    "def add_more_information(dict_info, fp_stack):\n",
    "    with rasterio.open(fp_stack, 'r+') as dst:\n",
    "        dst.update_tags(**dict_info)\n",
    "        \n",
    "\n"
   ]
  },
  {
   "cell_type": "code",
   "execution_count": 158,
   "metadata": {},
   "outputs": [
    {
     "name": "stdout",
     "output_type": "stream",
     "text": [
      "['LC08_L2SP_131027_20210203_20210303_02_T1.tif', 'LC08_L2SP_131027_20210219_20210302_02_T1.tif', 'LC08_L2SP_131027_20210323_20210402_02_T1.tif', 'LC08_L2SP_131027_20210408_20210416_02_T1.tif', 'LC08_L2SP_131027_20210627_20210707_02_T1.tif', 'LC08_L2SP_131027_20210830_20210909_02_T1.tif', 'LC08_L2SP_131027_20211017_20211026_02_T1.tif', 'LC08_L2SP_131027_20211204_20211209_02_T1.tif', 'LC08_L2SP_131027_20211220_20211229_02_T1.tif', 'LC08_L2SP_131027_20220105_20220113_02_T1.tif', 'LC08_L2SP_131027_20220121_20220128_02_T1.tif', 'LC08_L2SP_131027_20220206_20220212_02_T1.tif', 'LC08_L2SP_131027_20220222_20220301_02_T1.tif', 'LC09_L2SP_131027_20211212_20220120_02_T1.tif', 'LC09_L2SP_131027_20211228_20220121_02_T1.tif', 'LC09_L2SP_131027_20220113_20220122_02_T1.tif', 'LC09_L2SP_131027_20220214_20220216_02_T1.tif']\n",
      "Done!\n"
     ]
    }
   ],
   "source": [
    "dir_img_stack = r\"X:\\Linh\\stack_capital\\crop\"\n",
    "img_BF = 'LC08_L2SP_131027_20210830_20210909_02_T1.tif'\n",
    "list_chose_times, fp_large = get_list_image_by_time(dir_img_stack)\n",
    "len(fp_large)\n",
    "out_fp_stack = r\"X:\\Linh\\stack_capital\\stack_img.tif\"\n",
    "# stack_image(fp_large, out_fp_stack)\n",
    "percentile = {0: {'max': 9896.0, 'min': 7544.0}, 1: {'max': 10600.0, 'min': 7696.0}, \n",
    "                2: {'max': 12272.0, 'min': 8376.0}, 3: {'max': 13352.0, 'min': 7992.0}, \n",
    "                4: {'max': 19344.0, 'min': 12568.0}, 5: {'max': 20176.0, 'min': 10088.0}, 6: {'max': 17600.0, 'min': 8640.0}}\n",
    "dict_info = create_info(fp_large, img_BF, percentile)\n",
    "add_more_information(dict_info, out_fp_stack)\n",
    "print(\"Done!\")"
   ]
  },
  {
   "cell_type": "code",
   "execution_count": 167,
   "metadata": {},
   "outputs": [],
   "source": [
    "src = rasterio.open(out_fp_stack)"
   ]
  },
  {
   "cell_type": "code",
   "execution_count": 168,
   "metadata": {},
   "outputs": [
    {
     "data": {
      "text/plain": [
       "'[35, 42]'"
      ]
     },
     "execution_count": 168,
     "metadata": {},
     "output_type": "execute_result"
    }
   ],
   "source": []
  },
  {
   "cell_type": "code",
   "execution_count": 170,
   "metadata": {},
   "outputs": [
    {
     "data": {
      "text/plain": [
       "[35, 42]"
      ]
     },
     "execution_count": 170,
     "metadata": {},
     "output_type": "execute_result"
    }
   ],
   "source": [
    "src = rasterio.open(out_fp_stack)\n",
    "info = src.tags()['index_band']\n",
    "import ast\n",
    "ast.literal_eval(info)"
   ]
  },
  {
   "cell_type": "code",
   "execution_count": 172,
   "metadata": {},
   "outputs": [],
   "source": [
    "band = src.read()[35:42]"
   ]
  },
  {
   "cell_type": "code",
   "execution_count": 174,
   "metadata": {},
   "outputs": [
    {
     "data": {
      "text/plain": [
       "(7, 2244, 3066)"
      ]
     },
     "execution_count": 174,
     "metadata": {},
     "output_type": "execute_result"
    }
   ],
   "source": [
    "band.shape"
   ]
  },
  {
   "cell_type": "code",
   "execution_count": 178,
   "metadata": {},
   "outputs": [],
   "source": [
    "src = rasterio.open(out_fp_stack)\n",
    "band = src.read()[35:42]\n",
    "profile = src.profile\n",
    "profile.update(count=7)\n",
    "with rasterio.open(r\"X:\\Linh\\stack_capital\\meo.tif\", 'w', **profile) as dst:\n",
    "    dst.write(band)"
   ]
  },
  {
   "cell_type": "code",
   "execution_count": 190,
   "metadata": {},
   "outputs": [
    {
     "data": {
      "text/plain": [
       "'01'"
      ]
     },
     "execution_count": 190,
     "metadata": {},
     "output_type": "execute_result"
    }
   ],
   "source": [
    "'{:02}'.format(1)"
   ]
  },
  {
   "cell_type": "code",
   "execution_count": null,
   "metadata": {},
   "outputs": [],
   "source": []
  }
 ],
 "metadata": {
  "interpreter": {
   "hash": "bc63a6eef95843afe201fce49e80730796a68a524bff5092aa076c4c583efa68"
  },
  "kernelspec": {
   "display_name": "Python 3.6.13 ('mlenv')",
   "language": "python",
   "name": "python3"
  },
  "language_info": {
   "codemirror_mode": {
    "name": "ipython",
    "version": 3
   },
   "file_extension": ".py",
   "mimetype": "text/x-python",
   "name": "python",
   "nbconvert_exporter": "python",
   "pygments_lexer": "ipython3",
   "version": "3.6.13"
  },
  "orig_nbformat": 4
 },
 "nbformat": 4,
 "nbformat_minor": 2
}
