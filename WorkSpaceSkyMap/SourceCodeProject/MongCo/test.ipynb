{
 "cells": [
  {
   "cell_type": "code",
   "execution_count": 2,
   "metadata": {},
   "outputs": [
    {
     "name": "stdout",
     "output_type": "stream",
     "text": [
      "7841 7650 aaaaaa E:\\WORK\\Mongodia\\ThuDo_monggo\\Data_training\\tmp\\stack_capital_cut_img\\LC08_L2SP_131027_20210203_20210303_02_T1_0.tif\n",
      "7831 7650 aaaaaa E:\\WORK\\Mongodia\\ThuDo_monggo\\Data_training\\tmp\\stack_capital_cut_img\\LC08_L2SP_131027_20210219_20210302_02_T1_0.tif\n",
      "7831 7650 aaaaaa E:\\WORK\\Mongodia\\ThuDo_monggo\\Data_training\\tmp\\stack_capital_cut_img\\LC08_L2SP_131027_20210323_20210402_02_T1_0.tif\n",
      "7841 7650 aaaaaa E:\\WORK\\Mongodia\\ThuDo_monggo\\Data_training\\tmp\\stack_capital_cut_img\\LC08_L2SP_131027_20210408_20210416_02_T1_0.tif\n",
      "7841 7650 aaaaaa E:\\WORK\\Mongodia\\ThuDo_monggo\\Data_training\\tmp\\stack_capital_cut_img\\LC08_L2SP_131027_20210627_20210707_02_T1_0.tif\n",
      "7831 7621 aaaaaa E:\\WORK\\Mongodia\\ThuDo_monggo\\Data_training\\tmp\\stack_capital_cut_img\\LC08_L2SP_131027_20210830_20210909_02_T1_0.tif\n",
      "7841 7650 aaaaaa E:\\WORK\\Mongodia\\ThuDo_monggo\\Data_training\\tmp\\stack_capital_cut_img\\LC08_L2SP_131027_20211017_20211026_02_T1_0.tif\n",
      "7841 7650 aaaaaa E:\\WORK\\Mongodia\\ThuDo_monggo\\Data_training\\tmp\\stack_capital_cut_img\\LC08_L2SP_131027_20211204_20211209_02_T1_0.tif\n",
      "7841 7650 aaaaaa E:\\WORK\\Mongodia\\ThuDo_monggo\\Data_training\\tmp\\stack_capital_cut_img\\LC08_L2SP_131027_20211220_20211229_02_T1_0.tif\n",
      "7831 7650 aaaaaa E:\\WORK\\Mongodia\\ThuDo_monggo\\Data_training\\tmp\\stack_capital_cut_img\\LC08_L2SP_131027_20220105_20220113_02_T1_0.tif\n",
      "7841 7650 aaaaaa E:\\WORK\\Mongodia\\ThuDo_monggo\\Data_training\\tmp\\stack_capital_cut_img\\LC08_L2SP_131027_20220121_20220128_02_T1_0.tif\n",
      "7841 7650 aaaaaa E:\\WORK\\Mongodia\\ThuDo_monggo\\Data_training\\tmp\\stack_capital_cut_img\\LC08_L2SP_131027_20220206_20220212_02_T1_0.tif\n",
      "7841 7650 aaaaaa E:\\WORK\\Mongodia\\ThuDo_monggo\\Data_training\\tmp\\stack_capital_cut_img\\LC08_L2SP_131027_20220222_20220301_02_T1_0.tif\n",
      "7831 7650 aaaaaa E:\\WORK\\Mongodia\\ThuDo_monggo\\Data_training\\tmp\\stack_capital_cut_img\\LC09_L2SP_131027_20211212_20220120_02_T1_0.tif\n",
      "7831 7650 aaaaaa E:\\WORK\\Mongodia\\ThuDo_monggo\\Data_training\\tmp\\stack_capital_cut_img\\LC09_L2SP_131027_20211228_20220121_02_T1_0.tif\n",
      "7831 7650 aaaaaa E:\\WORK\\Mongodia\\ThuDo_monggo\\Data_training\\tmp\\stack_capital_cut_img\\LC09_L2SP_131027_20220113_20220122_02_T1_0.tif\n",
      "7831 7650 aaaaaa E:\\WORK\\Mongodia\\ThuDo_monggo\\Data_training\\tmp\\stack_capital_cut_img\\LC09_L2SP_131027_20220214_20220216_02_T1_0.tif\n"
     ]
    }
   ],
   "source": [
    "import glob, rasterio\n",
    "a =  glob.glob(r\"E:\\WORK\\Mongodia\\ThuDo_monggo\\Data_training\\tmp\\stack_capital_cut_img\\*.tif\")\n",
    "for fp_img in a:\n",
    "    src = rasterio.open(fp_img)\n",
    "    print(src.height, src.width,\"aaaaaa\", fp_img)"
   ]
  },
  {
   "cell_type": "code",
   "execution_count": null,
   "metadata": {},
   "outputs": [],
   "source": []
  },
  {
   "cell_type": "code",
   "execution_count": null,
   "metadata": {},
   "outputs": [],
   "source": []
  }
 ],
 "metadata": {
  "interpreter": {
   "hash": "bc63a6eef95843afe201fce49e80730796a68a524bff5092aa076c4c583efa68"
  },
  "kernelspec": {
   "display_name": "Python 3.6.13 ('mlenv')",
   "language": "python",
   "name": "python3"
  },
  "language_info": {
   "codemirror_mode": {
    "name": "ipython",
    "version": 3
   },
   "file_extension": ".py",
   "mimetype": "text/x-python",
   "name": "python",
   "nbconvert_exporter": "python",
   "pygments_lexer": "ipython3",
   "version": "3.6.13"
  },
  "orig_nbformat": 4
 },
 "nbformat": 4,
 "nbformat_minor": 2
}
