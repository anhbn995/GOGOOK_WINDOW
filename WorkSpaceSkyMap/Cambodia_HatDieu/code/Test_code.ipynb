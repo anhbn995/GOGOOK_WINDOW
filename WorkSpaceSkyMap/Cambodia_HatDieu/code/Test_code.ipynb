{
 "cells": [
  {
   "cell_type": "code",
   "execution_count": 9,
   "metadata": {},
   "outputs": [],
   "source": [
    "import rasterio\n",
    "import glob, cv2\n",
    "import numpy as np"
   ]
  },
  {
   "cell_type": "code",
   "execution_count": 10,
   "metadata": {},
   "outputs": [],
   "source": [
    "fp_dir = r\"E:\\WORK\\Mongodia\\Data_cut\\tmp\\Data_cut_img\"\n",
    "list_fp = glob.glob(os.path.join(fp_dir, '*.tif'))"
   ]
  },
  {
   "cell_type": "code",
   "execution_count": 11,
   "metadata": {},
   "outputs": [],
   "source": [
    "fp_img = r\"E:\\WORK\\Mongodia\\Data_cut\\tmp\\Data_cut_img\\48U_20210101-20220101_0.tif\"\n",
    "fp_flow = r\"E:\\WORK\\Mongodia\\Data_cut\\tmp\\Data_cut_img\\LC08_L2SP_133026_20210201_20210302_02_T1_0.tif\"\n",
    "fp_out = r\"E:\\WORK\\Mongodia\\Data_cut\\tmp\\Data_cut_img\\resize1.tif\""
   ]
  },
  {
   "cell_type": "code",
   "execution_count": 12,
   "metadata": {},
   "outputs": [
    {
     "ename": "RasterioIOError",
     "evalue": "E:\\WORK\\Mongodia\\Data_cut\\tmp\\Data_cut_img\\LC08_L2SP_133026_20210201_20210302_02_T1_0.tif: No such file or directory",
     "output_type": "error",
     "traceback": [
      "\u001b[1;31m---------------------------------------------------------------------------\u001b[0m",
      "\u001b[1;31mCPLE_OpenFailedError\u001b[0m                      Traceback (most recent call last)",
      "\u001b[1;32mrasterio\\_base.pyx\u001b[0m in \u001b[0;36mrasterio._base.DatasetBase.__init__\u001b[1;34m()\u001b[0m\n",
      "\u001b[1;32mrasterio\\_shim.pyx\u001b[0m in \u001b[0;36mrasterio._shim.open_dataset\u001b[1;34m()\u001b[0m\n",
      "\u001b[1;32mrasterio\\_err.pyx\u001b[0m in \u001b[0;36mrasterio._err.exc_wrap_pointer\u001b[1;34m()\u001b[0m\n",
      "\u001b[1;31mCPLE_OpenFailedError\u001b[0m: E:\\WORK\\Mongodia\\Data_cut\\tmp\\Data_cut_img\\LC08_L2SP_133026_20210201_20210302_02_T1_0.tif: No such file or directory",
      "\nDuring handling of the above exception, another exception occurred:\n",
      "\u001b[1;31mRasterioIOError\u001b[0m                           Traceback (most recent call last)",
      "\u001b[1;32m<ipython-input-12-7f10fd1624da>\u001b[0m in \u001b[0;36m<module>\u001b[1;34m\u001b[0m\n\u001b[1;32m----> 1\u001b[1;33m \u001b[0mimg_flow\u001b[0m \u001b[1;33m=\u001b[0m \u001b[0mrasterio\u001b[0m\u001b[1;33m.\u001b[0m\u001b[0mopen\u001b[0m\u001b[1;33m(\u001b[0m\u001b[0mfp_flow\u001b[0m\u001b[1;33m)\u001b[0m\u001b[1;33m\u001b[0m\u001b[1;33m\u001b[0m\u001b[0m\n\u001b[0m\u001b[0;32m      2\u001b[0m \u001b[0mwidth\u001b[0m \u001b[1;33m=\u001b[0m \u001b[0mrasterio\u001b[0m\u001b[1;33m.\u001b[0m\u001b[0mopen\u001b[0m\u001b[1;33m(\u001b[0m\u001b[0mfp_flow\u001b[0m\u001b[1;33m)\u001b[0m\u001b[1;33m.\u001b[0m\u001b[0mwidth\u001b[0m\u001b[1;33m\u001b[0m\u001b[1;33m\u001b[0m\u001b[0m\n\u001b[0;32m      3\u001b[0m \u001b[0mheight\u001b[0m \u001b[1;33m=\u001b[0m \u001b[0mrasterio\u001b[0m\u001b[1;33m.\u001b[0m\u001b[0mopen\u001b[0m\u001b[1;33m(\u001b[0m\u001b[0mfp_flow\u001b[0m\u001b[1;33m)\u001b[0m\u001b[1;33m.\u001b[0m\u001b[0mheight\u001b[0m\u001b[1;33m\u001b[0m\u001b[1;33m\u001b[0m\u001b[0m\n\u001b[0;32m      4\u001b[0m \u001b[1;33m\u001b[0m\u001b[0m\n\u001b[0;32m      5\u001b[0m \u001b[0mimg1\u001b[0m \u001b[1;33m=\u001b[0m \u001b[0mcv2\u001b[0m\u001b[1;33m.\u001b[0m\u001b[0mimread\u001b[0m\u001b[1;33m(\u001b[0m\u001b[0mfp_img\u001b[0m\u001b[1;33m,\u001b[0m \u001b[0mcv2\u001b[0m\u001b[1;33m.\u001b[0m\u001b[0mIMREAD_UNCHANGED\u001b[0m\u001b[1;33m)\u001b[0m\u001b[1;33m\u001b[0m\u001b[1;33m\u001b[0m\u001b[0m\n",
      "\u001b[1;32m~\\anaconda3\\envs\\mlenv\\lib\\site-packages\\rasterio\\env.py\u001b[0m in \u001b[0;36mwrapper\u001b[1;34m(*args, **kwds)\u001b[0m\n\u001b[0;32m    443\u001b[0m \u001b[1;33m\u001b[0m\u001b[0m\n\u001b[0;32m    444\u001b[0m         \u001b[1;32mwith\u001b[0m \u001b[0menv_ctor\u001b[0m\u001b[1;33m(\u001b[0m\u001b[0msession\u001b[0m\u001b[1;33m=\u001b[0m\u001b[0msession\u001b[0m\u001b[1;33m)\u001b[0m\u001b[1;33m:\u001b[0m\u001b[1;33m\u001b[0m\u001b[1;33m\u001b[0m\u001b[0m\n\u001b[1;32m--> 445\u001b[1;33m             \u001b[1;32mreturn\u001b[0m \u001b[0mf\u001b[0m\u001b[1;33m(\u001b[0m\u001b[1;33m*\u001b[0m\u001b[0margs\u001b[0m\u001b[1;33m,\u001b[0m \u001b[1;33m**\u001b[0m\u001b[0mkwds\u001b[0m\u001b[1;33m)\u001b[0m\u001b[1;33m\u001b[0m\u001b[1;33m\u001b[0m\u001b[0m\n\u001b[0m\u001b[0;32m    446\u001b[0m \u001b[1;33m\u001b[0m\u001b[0m\n\u001b[0;32m    447\u001b[0m     \u001b[1;32mreturn\u001b[0m \u001b[0mwrapper\u001b[0m\u001b[1;33m\u001b[0m\u001b[1;33m\u001b[0m\u001b[0m\n",
      "\u001b[1;32m~\\anaconda3\\envs\\mlenv\\lib\\site-packages\\rasterio\\__init__.py\u001b[0m in \u001b[0;36mopen\u001b[1;34m(fp, mode, driver, width, height, count, crs, transform, dtype, nodata, sharing, **kwargs)\u001b[0m\n\u001b[0;32m    217\u001b[0m         \u001b[1;31m# None.\u001b[0m\u001b[1;33m\u001b[0m\u001b[1;33m\u001b[0m\u001b[1;33m\u001b[0m\u001b[0m\n\u001b[0;32m    218\u001b[0m         \u001b[1;32mif\u001b[0m \u001b[0mmode\u001b[0m \u001b[1;33m==\u001b[0m \u001b[1;34m'r'\u001b[0m\u001b[1;33m:\u001b[0m\u001b[1;33m\u001b[0m\u001b[1;33m\u001b[0m\u001b[0m\n\u001b[1;32m--> 219\u001b[1;33m             \u001b[0ms\u001b[0m \u001b[1;33m=\u001b[0m \u001b[0mDatasetReader\u001b[0m\u001b[1;33m(\u001b[0m\u001b[0mpath\u001b[0m\u001b[1;33m,\u001b[0m \u001b[0mdriver\u001b[0m\u001b[1;33m=\u001b[0m\u001b[0mdriver\u001b[0m\u001b[1;33m,\u001b[0m \u001b[0msharing\u001b[0m\u001b[1;33m=\u001b[0m\u001b[0msharing\u001b[0m\u001b[1;33m,\u001b[0m \u001b[1;33m**\u001b[0m\u001b[0mkwargs\u001b[0m\u001b[1;33m)\u001b[0m\u001b[1;33m\u001b[0m\u001b[1;33m\u001b[0m\u001b[0m\n\u001b[0m\u001b[0;32m    220\u001b[0m         \u001b[1;32melif\u001b[0m \u001b[0mmode\u001b[0m \u001b[1;33m==\u001b[0m \u001b[1;34m'r+'\u001b[0m\u001b[1;33m:\u001b[0m\u001b[1;33m\u001b[0m\u001b[1;33m\u001b[0m\u001b[0m\n\u001b[0;32m    221\u001b[0m             \u001b[0ms\u001b[0m \u001b[1;33m=\u001b[0m \u001b[0mget_writer_for_path\u001b[0m\u001b[1;33m(\u001b[0m\u001b[0mpath\u001b[0m\u001b[1;33m)\u001b[0m\u001b[1;33m(\u001b[0m\u001b[0mpath\u001b[0m\u001b[1;33m,\u001b[0m \u001b[0mmode\u001b[0m\u001b[1;33m,\u001b[0m \u001b[0mdriver\u001b[0m\u001b[1;33m=\u001b[0m\u001b[0mdriver\u001b[0m\u001b[1;33m,\u001b[0m \u001b[0msharing\u001b[0m\u001b[1;33m=\u001b[0m\u001b[0msharing\u001b[0m\u001b[1;33m,\u001b[0m \u001b[1;33m**\u001b[0m\u001b[0mkwargs\u001b[0m\u001b[1;33m)\u001b[0m\u001b[1;33m\u001b[0m\u001b[1;33m\u001b[0m\u001b[0m\n",
      "\u001b[1;32mrasterio\\_base.pyx\u001b[0m in \u001b[0;36mrasterio._base.DatasetBase.__init__\u001b[1;34m()\u001b[0m\n",
      "\u001b[1;31mRasterioIOError\u001b[0m: E:\\WORK\\Mongodia\\Data_cut\\tmp\\Data_cut_img\\LC08_L2SP_133026_20210201_20210302_02_T1_0.tif: No such file or directory"
     ]
    }
   ],
   "source": [
    "img_flow = rasterio.open(fp_flow)\n",
    "width = rasterio.open(fp_flow).width\n",
    "height = rasterio.open(fp_flow).height\n",
    "\n",
    "img1 = cv2.imread(fp_img, cv2.IMREAD_UNCHANGED)\n",
    "new_shape = (width, height)\n",
    "resized = cv2.resize(img1, new_shape, interpolation = cv2.IMREAD_UNCHANGED)\n",
    "resized.shape"
   ]
  },
  {
   "cell_type": "code",
   "execution_count": null,
   "metadata": {},
   "outputs": [],
   "source": [
    "profile = rasterio.open(fp_flow).profile\n",
    "profile.update( count=1,\n",
    "                dtype=rasterio.uint8\n",
    "                )\n",
    "with rasterio.open(fp_out, 'w', **profile) as dst:\n",
    "            dst.write(np.array([resized]))"
   ]
  },
  {
   "cell_type": "code",
   "execution_count": null,
   "metadata": {},
   "outputs": [],
   "source": [
    "import os\n",
    "import glob\n",
    "import rasterio\n",
    "import numpy as np\n",
    "\n",
    "from osgeo import gdal\n",
    "from rasterio.warp import reproject, Resampling\n",
    "\n",
    "\n",
    "def window_from_extent(xmin, xmax, ymin, ymax, aff):\n",
    "        col_start, row_start = ~aff * (xmin, ymax)\n",
    "        col_stop, row_stop = ~aff * (xmax, ymin)\n",
    "        return ((int(row_start), int(row_stop)), (int(col_start), int(col_stop)))\n",
    "\n",
    "def convert_profile(src_path, dst_path, out_path):\n",
    "    kwargs = None\n",
    "    _info = gdal.Info(dst_path, format='json')\n",
    "    xmin, ymin = _info['cornerCoordinates']['lowerLeft']\n",
    "    xmax, ymax = _info['cornerCoordinates']['upperRight']\n",
    "\n",
    "    with rasterio.open(dst_path) as dst:\n",
    "        dst_transform = dst.transform\n",
    "        kwargs = dst.meta\n",
    "        kwargs['transform'] = dst_transform\n",
    "        dst_crs = dst.crs\n",
    "        kwargs.update(count=1,\n",
    "                      dtype=rasterio.uint8)\n",
    "\n",
    "    with rasterio.open(src_path) as src:\n",
    "        window = window_from_extent(xmin, xmax, ymin, ymax, src.transform)\n",
    "        src_transform = src.window_transform(window)\n",
    "        data = src.read()\n",
    "        print(np.unique(data))\n",
    "\n",
    "        with rasterio.open(out_path, 'w', **kwargs) as dst:\n",
    "            # for i, band in enumerate(data, 1):\n",
    "            # data = src.read(window=window)\n",
    "            print(np.unique(data))\n",
    "            # print(data.shape)\n",
    "            dest = np.zeros_like(data) \n",
    "            reproject(\n",
    "                data, dest,\n",
    "                src_transform=src_transform,\n",
    "                src_crs=src.crs,\n",
    "                dst_transform=src_transform,\n",
    "                dst_crs=dst_crs,\n",
    "                resampling=Resampling.nearest)\n",
    "            print(np.unique(dest))\n",
    "            dst.write(dest)"
   ]
  },
  {
   "cell_type": "code",
   "execution_count": null,
   "metadata": {},
   "outputs": [
    {
     "name": "stdout",
     "output_type": "stream",
     "text": [
      "[ 0  1  2  4  5  7  8 11]\n",
      "[ 0  1  2  4  5  7  8 11]\n",
      "[ 0  1  2  4  5  7  8 11]\n"
     ]
    }
   ],
   "source": [
    "src_path = r\"E:\\WORK\\Mongodia\\Data_cut\\tmp\\Data_cut_img\\resize_near.tif\"\n",
    "dst_path = r\"E:\\WORK\\Mongodia\\Data_cut\\tmp\\Data_cut_img\\LC08_L2SP_133026_20210201_20210302_02_T1_0.tif\"\n",
    "out_path = r\"E:\\WORK\\Mongodia\\Data_cut\\tmp\\Data_cut_img\\resize_near_ext.tif\"\n",
    "convert_profile(src_path, dst_path, out_path)"
   ]
  },
  {
   "cell_type": "code",
   "execution_count": null,
   "metadata": {},
   "outputs": [
    {
     "name": "stdout",
     "output_type": "stream",
     "text": [
      "Creating output file that is 1391P x 862L.\n",
      "Processing E:\\WORK\\Mongodia\\Data_cut\\tmp\\Data_cut_img\\48U_20210101-20220101_0.tif [1/1] : 0Using internal nodata values (e.g. 0) for image E:\\WORK\\Mongodia\\Data_cut\\tmp\\Data_cut_img\\48U_20210101-20220101_0.tif.\n",
      "Copying nodata values from source E:\\WORK\\Mongodia\\Data_cut\\tmp\\Data_cut_img\\48U_20210101-20220101_0.tif to destination E:\\WORK\\Mongodia\\Data_cut\\tmp\\Data_cut_img\\resize_near.tif.\n",
      "...10...20...30...40...50...60...70...80...90...100 - done.\n"
     ]
    }
   ],
   "source": [
    "!gdalwarp -of GTiff -co COMPRESS=DEFLATE -ts 1391 862 -r near \"E:\\WORK\\Mongodia\\Data_cut\\tmp\\Data_cut_img\\48U_20210101-20220101_0.tif\" \"E:\\WORK\\Mongodia\\Data_cut\\tmp\\Data_cut_img\\resize_near.tif\""
   ]
  },
  {
   "cell_type": "code",
   "execution_count": null,
   "metadata": {},
   "outputs": [
    {
     "name": "stdout",
     "output_type": "stream",
     "text": [
      "Data appended successfully.\n"
     ]
    }
   ],
   "source": [
    "\n",
    "# Append Pandas DataFrame to Existing CSV File\n",
    "# importing pandas module\n",
    "import pandas as pd\n",
    " \n",
    "# data of Player and their performance\n",
    "data = {\n",
    "    'Name': ['Hardik', 'Pollard', 'Bravo'],\n",
    "    'Run': [50, 63, 15],\n",
    "    'Wicket': [0, 2, 3],\n",
    "    'Catch': [4, 2, 1]\n",
    "}\n",
    " \n",
    "# Make data frame of above data\n",
    "df = pd.DataFrame(data)\n",
    " \n",
    "# append data frame to CSV file\n",
    "df.to_csv('GFG.csv', mode='a', index=False, header=False)\n",
    " \n",
    "# print message\n",
    "print(\"Data appended successfully.\")"
   ]
  },
  {
   "cell_type": "code",
   "execution_count": 13,
   "metadata": {},
   "outputs": [],
   "source": [
    "import rasterio\n",
    "import rasterio.features\n",
    "import os\n",
    "import geopandas as gp\n",
    "import numpy as np\n",
    "from matplotlib import pyplot as plt\n",
    "import cv2\n",
    "import argparse\n",
    "import sys\n",
    "import glob, os\n",
    "from multiprocessing.pool import Pool\n",
    "from functools import partial\n",
    "import multiprocessing\n",
    "import time\n",
    "core = multiprocessing.cpu_count()\n"
   ]
  },
  {
   "cell_type": "code",
   "execution_count": 14,
   "metadata": {},
   "outputs": [],
   "source": [
    "def create_mask_by_shapefile2(shape_path, height, width, tr):\n",
    "    # shape_file = os.path.expanduser(shape_path)\n",
    "    # list_shape = create_list_id(shape_path,'.shp')\n",
    "    list_geometry = []\n",
    "    # for shape_id in list_shape: \n",
    "    #     shape_file = os.path.join(shape_path,shape_id+'.shp')\n",
    "    shp = gp.read_file(shape_path)\n",
    "    ls_geo = [(x.geometry) for i, x in shp.iterrows()]\n",
    "    list_geometry.extend(ls_geo)\n",
    "    mask = rasterio.features.rasterize(list_geometry\n",
    "                                    ,out_shape=(height, width)\n",
    "                                    ,transform=tr)\n",
    "    return mask"
   ]
  },
  {
   "cell_type": "code",
   "execution_count": 15,
   "metadata": {},
   "outputs": [],
   "source": [
    "def arr2raster(path_out, bands, height, width, tr, dtype=\"uint8\",coordinate=None,projstr=None):\n",
    "    num_band = len(bands)\n",
    "    if coordinate!= None:\n",
    "        crs = rasterio.crs.CRS.from_epsg(coordinate)\n",
    "    else:\n",
    "        crs = rasterio.crs.CRS.from_string(projstr)\n",
    "    new_dataset = rasterio.open(path_out, 'w', driver='GTiff',\n",
    "                            height = height, width = width,\n",
    "                            count = num_band, dtype = dtype,\n",
    "                            crs = crs,\n",
    "                            transform = tr,\n",
    "                            # nodata = 0,\n",
    "                            compress='lzw')\n",
    "    if num_band == 1:\n",
    "        new_dataset.write(bands[0], 1)\n",
    "    else:\n",
    "        for i in range(num_band):\n",
    "            new_dataset.write(bands[i],i+1)\n",
    "    new_dataset.close()"
   ]
  },
  {
   "cell_type": "code",
   "execution_count": 31,
   "metadata": {},
   "outputs": [],
   "source": [
    "def build_mask(path_image, dir_fp_shp, output_mask):\n",
    "    path_image = path_image\n",
    "    list_fp_shp =  glob.glob(os.path.join(dir_fp_shp,'*.shp'))\n",
    "    list_fp_shp.sort()\n",
    "    print(list_fp_shp)\n",
    "    with rasterio.open(path_image) as src:\n",
    "        tr = src.transform\n",
    "        w,h = src.width,src.height\n",
    "        projstr = (src.crs.to_string())\n",
    "        print(projstr)\n",
    "        crs = src.crs\n",
    "        check_epsg = crs.is_epsg_code\n",
    "        # if check_epsg:\n",
    "        coordinate = src.crs.to_epsg()\n",
    "        # else:\n",
    "        # coordinate = None\n",
    "        mask = np.zeros_like(src.read())[0]\n",
    "    i=1\n",
    "    for path_shp in list_fp_shp:\n",
    "        mask += create_mask_by_shapefile2(path_shp, h, w, tr)*i\n",
    "        i+=1\n",
    "    mask = mask.astype('uint8')\n",
    "    arr2raster(output_mask, [mask], h, w, tr, dtype=\"uint8\",coordinate=coordinate,projstr=projstr)"
   ]
  },
  {
   "cell_type": "code",
   "execution_count": 32,
   "metadata": {},
   "outputs": [
    {
     "name": "stdout",
     "output_type": "stream",
     "text": [
      "['E:\\\\WORK\\\\Mongodia\\\\Data_cut_img\\\\label_shp\\\\1_build_up.shp', 'E:\\\\WORK\\\\Mongodia\\\\Data_cut_img\\\\label_shp\\\\2_crop.shp', 'E:\\\\WORK\\\\Mongodia\\\\Data_cut_img\\\\label_shp\\\\3_other.shp', 'E:\\\\WORK\\\\Mongodia\\\\Data_cut_img\\\\label_shp\\\\4_pasture.shp', 'E:\\\\WORK\\\\Mongodia\\\\Data_cut_img\\\\label_shp\\\\5_tree.shp', 'E:\\\\WORK\\\\Mongodia\\\\Data_cut_img\\\\label_shp\\\\6_water.shp']\n",
      "EPSG:32648\n"
     ]
    }
   ],
   "source": [
    "path_image= r\"E:\\WORK\\Mongodia\\Data_cut_img\\Img\\LC08_L2SP_133026_20210201_20210302_02_T1_0.tif\"\n",
    "dir_fp_shp = r\"E:\\WORK\\Mongodia\\Data_cut_img\\label_shp\"\n",
    "output_mask = r\"E:\\WORK\\Mongodia\\Data_cut_img\\label_shp\\mask.tif\"\n",
    "build_mask(path_image, dir_fp_shp, output_mask)"
   ]
  },
  {
   "cell_type": "code",
   "execution_count": 24,
   "metadata": {},
   "outputs": [],
   "source": [
    "dir_fp_shp = r\"E:\\WORK\\Mongodia\\Data_cut_img\\label_shp\"\n",
    "a = glob.glob(os.path.join(dir_fp_shp,'*.shp'))"
   ]
  },
  {
   "cell_type": "code",
   "execution_count": 25,
   "metadata": {},
   "outputs": [
    {
     "data": {
      "text/plain": [
       "['E:\\\\WORK\\\\Mongodia\\\\Data_cut_img\\\\label_shp\\\\1_build_up.shp',\n",
       " 'E:\\\\WORK\\\\Mongodia\\\\Data_cut_img\\\\label_shp\\\\2_crop.shp',\n",
       " 'E:\\\\WORK\\\\Mongodia\\\\Data_cut_img\\\\label_shp\\\\3_other.shp',\n",
       " 'E:\\\\WORK\\\\Mongodia\\\\Data_cut_img\\\\label_shp\\\\4_pasture.shp',\n",
       " 'E:\\\\WORK\\\\Mongodia\\\\Data_cut_img\\\\label_shp\\\\5_tree.shp',\n",
       " 'E:\\\\WORK\\\\Mongodia\\\\Data_cut_img\\\\label_shp\\\\6_water.shp']"
      ]
     },
     "execution_count": 25,
     "metadata": {},
     "output_type": "execute_result"
    }
   ],
   "source": [
    "a"
   ]
  },
  {
   "cell_type": "code",
   "execution_count": 27,
   "metadata": {},
   "outputs": [],
   "source": [
    "a.sort()"
   ]
  },
  {
   "cell_type": "code",
   "execution_count": 28,
   "metadata": {},
   "outputs": [
    {
     "data": {
      "text/plain": [
       "['E:\\\\WORK\\\\Mongodia\\\\Data_cut_img\\\\label_shp\\\\1_build_up.shp',\n",
       " 'E:\\\\WORK\\\\Mongodia\\\\Data_cut_img\\\\label_shp\\\\2_crop.shp',\n",
       " 'E:\\\\WORK\\\\Mongodia\\\\Data_cut_img\\\\label_shp\\\\3_other.shp',\n",
       " 'E:\\\\WORK\\\\Mongodia\\\\Data_cut_img\\\\label_shp\\\\4_pasture.shp',\n",
       " 'E:\\\\WORK\\\\Mongodia\\\\Data_cut_img\\\\label_shp\\\\5_tree.shp',\n",
       " 'E:\\\\WORK\\\\Mongodia\\\\Data_cut_img\\\\label_shp\\\\6_water.shp']"
      ]
     },
     "execution_count": 28,
     "metadata": {},
     "output_type": "execute_result"
    }
   ],
   "source": [
    "a"
   ]
  },
  {
   "cell_type": "code",
   "execution_count": 16,
   "metadata": {},
   "outputs": [],
   "source": [
    "import numpy as np\n",
    "a=np.random.rand(4,3,2)"
   ]
  },
  {
   "cell_type": "code",
   "execution_count": 20,
   "metadata": {},
   "outputs": [
    {
     "data": {
      "text/plain": [
       "array([[[0.6827058 , 0.48579679],\n",
       "        [0.38128813, 0.61612236],\n",
       "        [0.04059653, 0.42403218]],\n",
       "\n",
       "       [[0.96674929, 0.12238189],\n",
       "        [0.31954878, 0.8677101 ],\n",
       "        [0.13945541, 0.52228638]],\n",
       "\n",
       "       [[0.88074106, 0.696703  ],\n",
       "        [0.03074569, 0.85945163],\n",
       "        [0.15704265, 0.09845663]],\n",
       "\n",
       "       [[0.94720132, 0.65945073],\n",
       "        [0.48966806, 0.13855657],\n",
       "        [0.66585167, 0.44710311]]])"
      ]
     },
     "execution_count": 20,
     "metadata": {},
     "output_type": "execute_result"
    }
   ],
   "source": [
    "a[:, 0:,:]"
   ]
  },
  {
   "cell_type": "code",
   "execution_count": 18,
   "metadata": {},
   "outputs": [
    {
     "data": {
      "text/plain": [
       "array([[[0.6827058 , 0.48579679],\n",
       "        [0.38128813, 0.61612236],\n",
       "        [0.04059653, 0.42403218]],\n",
       "\n",
       "       [[0.96674929, 0.12238189],\n",
       "        [0.31954878, 0.8677101 ],\n",
       "        [0.13945541, 0.52228638]],\n",
       "\n",
       "       [[0.88074106, 0.696703  ],\n",
       "        [0.03074569, 0.85945163],\n",
       "        [0.15704265, 0.09845663]],\n",
       "\n",
       "       [[0.94720132, 0.65945073],\n",
       "        [0.48966806, 0.13855657],\n",
       "        [0.66585167, 0.44710311]]])"
      ]
     },
     "execution_count": 18,
     "metadata": {},
     "output_type": "execute_result"
    }
   ],
   "source": [
    "a"
   ]
  },
  {
   "cell_type": "code",
   "execution_count": 4,
   "metadata": {},
   "outputs": [],
   "source": [
    "import rasterio\n",
    "import glob, os\n",
    "\n",
    "dir_path = r\"C:\\Users\\SkyMap\\Desktop\\NDA\\mosaic\"\n",
    "list_img_name = glob.glob(os.path.join(dir_path,\"*.tif\"))\n",
    "with rasterio.open(list_img_name[0]) as src:\n",
    "    crs_flow = src.crs\n",
    "for fp in list_img_name[1:]:\n",
    "    src = rasterio.open(fp).crs\n",
    "    if crs_flow == src:\n",
    "        print(\"a\")\n",
    "    # print(src)\n",
    "\n"
   ]
  },
  {
   "cell_type": "code",
   "execution_count": null,
   "metadata": {},
   "outputs": [],
   "source": []
  }
 ],
 "metadata": {
  "interpreter": {
   "hash": "bc63a6eef95843afe201fce49e80730796a68a524bff5092aa076c4c583efa68"
  },
  "kernelspec": {
   "display_name": "Python 3.6.13 ('mlenv')",
   "language": "python",
   "name": "python3"
  },
  "language_info": {
   "codemirror_mode": {
    "name": "ipython",
    "version": 3
   },
   "file_extension": ".py",
   "mimetype": "text/x-python",
   "name": "python",
   "nbconvert_exporter": "python",
   "pygments_lexer": "ipython3",
   "version": "3.6.13"
  },
  "orig_nbformat": 4
 },
 "nbformat": 4,
 "nbformat_minor": 2
}
