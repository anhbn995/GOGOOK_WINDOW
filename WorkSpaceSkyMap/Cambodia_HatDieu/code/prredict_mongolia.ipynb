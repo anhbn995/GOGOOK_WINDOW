{
 "cells": [
  {
   "cell_type": "code",
   "execution_count": 1,
   "metadata": {},
   "outputs": [],
   "source": [
    "import os, glob\n",
    "import pandas as pd\n",
    "from datetime import datetime\n",
    "import numpy as np\n",
    "import rasterio\n",
    "import xgboost as xgb"
   ]
  },
  {
   "cell_type": "code",
   "execution_count": 2,
   "metadata": {},
   "outputs": [],
   "source": [
    "def get_df_flatten_train(fp_img, list_number_band, index_nodata, name_atrr):\n",
    "    src = rasterio.open(fp_img)\n",
    "    # return to img train\n",
    "    list_band_have = list(range(1,src.count+1))\n",
    "    dfObj = pd.DataFrame()\n",
    "    if set(list_number_band).issubset(list_band_have):\n",
    "        img = src.read(list_number_band)\n",
    "        i = 0\n",
    "        for band in img:\n",
    "            band = band.flatten()\n",
    "            band = np.delete(band, index_nodata)\n",
    "            name_band = f\"band {list_number_band[i]}_{name_atrr}\"\n",
    "            dfObj[name_band] = band\n",
    "            i+=1\n",
    "        return dfObj\n",
    "    else:\n",
    "        miss = np.setdiff1d(list_number_band, list_band_have)\n",
    "        print(\"*\"*15, \"ERROR\", \"*\"*15)\n",
    "        print(f\"Image dont have band : {miss.tolist()}\")"
   ]
  },
  {
   "cell_type": "code",
   "execution_count": 3,
   "metadata": {},
   "outputs": [],
   "source": [
    "def get_list_image_by_time(dir_img):\n",
    "    list_name_file = os.listdir(dir_img)\n",
    "    list_time = []\n",
    "    for name in list_name_file:\n",
    "        list_time.append(name[17:25])\n",
    "    list_time.sort(key=lambda date: datetime.strptime(date, '%Y%m%d'))\n",
    "    return list_time[:9]"
   ]
  },
  {
   "cell_type": "code",
   "execution_count": null,
   "metadata": {},
   "outputs": [],
   "source": [
    "def create_csv_train(list_fp_img, list_name_file_sort, list_number_band, index_nodata,fp_csv):\n",
    "    fp_img_first = [s for s in list_fp_img if list_name_file_sort[0] in s][0]\n",
    "    df = get_df_flatten_train(fp_img_first, list_number_band, index_nodata, list_name_file_sort[0])\n",
    "    print(df.shape,\"a\")\n",
    "    for name_file_sort in list_name_file_sort[1:]:\n",
    "        fp_img = [s for s in list_fp_img if name_file_sort in s][0]\n",
    "        df1 = get_df_flatten_train(fp_img, list_number_band, index_nodata, name_file_sort)\n",
    "        df = pd.concat([df, df1], axis=1)\n",
    "        print(df.shape)\n",
    "    df.to_csv(fp_csv)  "
   ]
  }
 ],
 "metadata": {
  "interpreter": {
   "hash": "bc63a6eef95843afe201fce49e80730796a68a524bff5092aa076c4c583efa68"
  },
  "kernelspec": {
   "display_name": "Python 3.6.13 ('mlenv')",
   "language": "python",
   "name": "python3"
  },
  "language_info": {
   "codemirror_mode": {
    "name": "ipython",
    "version": 3
   },
   "file_extension": ".py",
   "mimetype": "text/x-python",
   "name": "python",
   "nbconvert_exporter": "python",
   "pygments_lexer": "ipython3",
   "version": "3.6.13"
  },
  "orig_nbformat": 4
 },
 "nbformat": 4,
 "nbformat_minor": 2
}
