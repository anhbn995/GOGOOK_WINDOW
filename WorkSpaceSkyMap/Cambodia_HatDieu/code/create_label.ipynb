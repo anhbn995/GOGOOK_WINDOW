{
 "cells": [
  {
   "cell_type": "code",
   "execution_count": 17,
   "metadata": {},
   "outputs": [
    {
     "name": "stdout",
     "output_type": "stream",
     "text": [
      "6\n"
     ]
    },
    {
     "data": {
      "text/plain": [
       "6"
      ]
     },
     "execution_count": 17,
     "metadata": {},
     "output_type": "execute_result"
    }
   ],
   "source": [
    "import rasterio\n",
    "import rasterio.mask\n",
    "import glob, os\n",
    "import numpy as np\n",
    "import pandas as pd\n",
    "import geopandas\n",
    "\n",
    "list_fp_shp = glob.glob(os.path.join(\"E:\\WORK\\Mongodia\\Data_cut_img\\label_shp\",\"*.shp\"))\n",
    "list_list_src = []\n",
    "print(len(list_fp_shp))\n",
    "for fp_shp in list_fp_shp:\n",
    "    geo_data = geopandas.read_file(fp_shp)\n",
    "    list_src_one_label = []\n",
    "    for i in range(len(geo_data)):\n",
    "        list_src_one_label.append(geo_data.iloc[i]['geometry'])\n",
    "    list_list_src.append(list_src_one_label)\n",
    "len(list_list_src)"
   ]
  },
  {
   "cell_type": "code",
   "execution_count": null,
   "metadata": {},
   "outputs": [],
   "source": [
    "all_data= [[],[],[],[],[],[],[],[],[]]\n",
    "for path in glob.glob(r\"E:\\WORK\\Mongodia\\Data_cut_img\\Img\\LC08_L2SP_133026_20210201_20210302_02_T1_0.tif\"):\n",
    "    with rasterio.open(path) as src:\n",
    "        height = src.height\n",
    "        width = src.width\n",
    "        src_transform = src.transform\n",
    "        data = src.read()\n",
    "    mask_paddy = rasterio.features.geometry_mask(src1, (height, width), src_transform,invert=True, all_touched=True).astype(np.uint16)\n",
    "    mask_background = rasterio.features.geometry_mask(src2, (height, width), src_transform,invert=True, all_touched=True).astype(np.uint16)\n",
    "    mask = mask_paddy+2*mask_background\n",
    "    ggg = np.concatenate((data, mask[np.newaxis,...]))\n",
    "    data = []\n",
    "    for i in range(ggg.shape[0]):\n",
    "        all_data[i].extend(list(ggg[i][ggg[-1]>0]))\n",
    "\n",
    "df = pd.DataFrame(np.array(all_data).T, columns = ['ban1', 'ban2', 'ban3', 'ban4','ban5', 'ban6', 'ban7', 'ban8' 'label'])\n",
    "print(df)\n",
    "df = df.sample(frac=1).reset_index(drop=True)\n",
    "df.to_csv(r'E:\\WORK\\Mongodia\\Data_cut_img\\data_train.csv')\n"
   ]
  },
  {
   "cell_type": "code",
   "execution_count": 4,
   "metadata": {},
   "outputs": [
    {
     "data": {
      "text/plain": [
       "[<shapely.geometry.polygon.Polygon at 0x27d0e596f98>,\n",
       " <shapely.geometry.polygon.Polygon at 0x27d0e596f60>,\n",
       " <shapely.geometry.polygon.Polygon at 0x27d0e5c00b8>,\n",
       " <shapely.geometry.polygon.Polygon at 0x27d0e5c00f0>,\n",
       " <shapely.geometry.polygon.Polygon at 0x27d0e5c0160>]"
      ]
     },
     "execution_count": 4,
     "metadata": {},
     "output_type": "execute_result"
    }
   ],
   "source": [
    "all_data= [[],[],[],[],[],[],[],[],[]]\n",
    "for path in glob.glob(r\"E:\\WORK\\Mongodia\\Data_cut_img\\Img\\LC08_L2SP_133026_20210201_20210302_02_T1_0.tif\"):\n",
    "    with rasterio.open(path) as src:\n",
    "        height = src.height\n",
    "        width = src.width\n",
    "        src_transform = src.transform\n",
    "        data = src.read()\n",
    "    \n",
    "    mask_paddy = rasterio.features.geometry_mask(src1, (height, width), src_transform,invert=True, all_touched=True).astype(np.uint16)\n",
    "    mask_background = rasterio.features.geometry_mask(src2, (height, width), src_transform,invert=True, all_touched=True).astype(np.uint16)\n",
    "    mask = mask_paddy+2*mask_background\n",
    "    ggg = np.concatenate((data, mask[np.newaxis,...]))\n",
    "    data = []\n",
    "    for i in range(ggg.shape[0]):\n",
    "        all_data[i].extend(list(ggg[i][ggg[-1]>0]))\n",
    "\n",
    "df = pd.DataFrame(np.array(all_data).T, columns = ['ban1', 'ban2', 'ban3', 'ban4','ban5', 'ban6', 'ban7', 'ban8' 'label'])\n",
    "print(df)\n",
    "df = df.sample(frac=1).reset_index(drop=True)\n",
    "df.to_csv(r'E:\\WORK\\Mongodia\\Data_cut_img\\data_train.csv')"
   ]
  },
  {
   "cell_type": "code",
   "execution_count": 2,
   "metadata": {},
   "outputs": [
    {
     "data": {
      "text/plain": [
       "1"
      ]
     },
     "execution_count": 2,
     "metadata": {},
     "output_type": "execute_result"
    }
   ],
   "source": [
    "import numpy as np\n",
    "np.bincount(np.array([0, 1, 1, 3, 2, 1, 7])).argmax()"
   ]
  },
  {
   "cell_type": "code",
   "execution_count": 3,
   "metadata": {},
   "outputs": [
    {
     "data": {
      "text/plain": [
       "array([1, 3, 1, 1, 0, 0, 0, 1], dtype=int64)"
      ]
     },
     "execution_count": 3,
     "metadata": {},
     "output_type": "execute_result"
    }
   ],
   "source": [
    "np.bincount(np.array([0, 1, 1, 3, 2, 1, 13]))"
   ]
  },
  {
   "cell_type": "code",
   "execution_count": null,
   "metadata": {},
   "outputs": [],
   "source": []
  }
 ],
 "metadata": {
  "interpreter": {
   "hash": "bc63a6eef95843afe201fce49e80730796a68a524bff5092aa076c4c583efa68"
  },
  "kernelspec": {
   "display_name": "Python 3.6.13 ('mlenv')",
   "language": "python",
   "name": "python3"
  },
  "language_info": {
   "codemirror_mode": {
    "name": "ipython",
    "version": 3
   },
   "file_extension": ".py",
   "mimetype": "text/x-python",
   "name": "python",
   "nbconvert_exporter": "python",
   "pygments_lexer": "ipython3",
   "version": "3.6.13"
  },
  "orig_nbformat": 4
 },
 "nbformat": 4,
 "nbformat_minor": 2
}
