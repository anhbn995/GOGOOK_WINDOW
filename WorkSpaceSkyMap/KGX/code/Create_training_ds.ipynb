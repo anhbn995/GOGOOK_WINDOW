{
 "cells": [
  {
   "cell_type": "code",
   "execution_count": 20,
   "id": "6c31a858",
   "metadata": {},
   "outputs": [],
   "source": [
    "import rasterio\n",
    "import numpy as np\n",
    "import matplotlib.pyplot as plt\n",
    "%matplotlib inline\n",
    "\n",
    "def write_img(band, out_meta, out_path):\n",
    "    \"\"\"\n",
    "        Export image by raster        \n",
    "    \"\"\"\n",
    "    with rasterio.open(out_path, \"w\", **out_meta) as dest:\n",
    "        dest.write(band)"
   ]
  },
  {
   "cell_type": "code",
   "execution_count": 21,
   "id": "5852f6a5",
   "metadata": {},
   "outputs": [],
   "source": [
    "# Dataset\n",
    "img_path = r\"E:\\WORK\\KGX\\data\\2018t10 Thu Dau Mot.tif\"\n",
    "label_path_cay = r\"E:\\WORK\\KGX\\data\\mask_origin.tif\"\n",
    "label_nuoc = r\"E:\\WORK\\KGX\\data\\mask_NUOC.tif\"\n",
    "label_nodata = r\"E:\\WORK\\KGX\\data\\nodata.tif\""
   ]
  },
  {
   "cell_type": "code",
   "execution_count": 26,
   "id": "ceb5e140",
   "metadata": {
    "scrolled": true
   },
   "outputs": [
    {
     "data": {
      "text/plain": [
       "{'driver': 'GTiff',\n",
       " 'dtype': 'float32',\n",
       " 'nodata': 0.0,\n",
       " 'width': 1365,\n",
       " 'height': 1887,\n",
       " 'count': 1,\n",
       " 'crs': CRS.from_epsg(4326),\n",
       " 'transform': Affine(9.09882783882816e-05, 0.0, 106.595192,\n",
       "        0.0, -9.100529941706352e-05, 11.111403)}"
      ]
     },
     "execution_count": 26,
     "metadata": {},
     "output_type": "execute_result"
    }
   ],
   "source": [
    "src1 =  rasterio.open(img_path)\n",
    "src2 =  rasterio.open(label_path_cay)\n",
    "src3 =  rasterio.open(label_nuoc)\n",
    "src4 =  rasterio.open(label_nodata)\n",
    "meta = src3.meta\n",
    "meta"
   ]
  },
  {
   "cell_type": "code",
   "execution_count": 27,
   "id": "62431465",
   "metadata": {},
   "outputs": [
    {
     "data": {
      "text/plain": [
       "{'driver': 'GTiff',\n",
       " 'dtype': 'uint8',\n",
       " 'nodata': 0.0,\n",
       " 'width': 1365,\n",
       " 'height': 1887,\n",
       " 'count': 1,\n",
       " 'crs': CRS.from_epsg(4326),\n",
       " 'transform': Affine(9.09882783882816e-05, 0.0, 106.595192,\n",
       "        0.0, -9.100529941706352e-05, 11.111403)}"
      ]
     },
     "execution_count": 27,
     "metadata": {},
     "output_type": "execute_result"
    }
   ],
   "source": [
    "meta.update({'dtype': 'uint8'})\n",
    "meta"
   ]
  },
  {
   "cell_type": "code",
   "execution_count": 28,
   "id": "09bdf517",
   "metadata": {},
   "outputs": [],
   "source": [
    "band_label  = src2.read() + src3.read() + src4.read()\n",
    "band_label = band_label.astype('uint8')\n",
    "out_path = r\"E:\\WORK\\KGX\\data\\label_3_class.tif\"\n",
    "write_img(band_label, meta, out_path)"
   ]
  }
 ],
 "metadata": {
  "kernelspec": {
   "display_name": "Python 3",
   "language": "python",
   "name": "python3"
  },
  "language_info": {
   "codemirror_mode": {
    "name": "ipython",
    "version": 3
   },
   "file_extension": ".py",
   "mimetype": "text/x-python",
   "name": "python",
   "nbconvert_exporter": "python",
   "pygments_lexer": "ipython3",
   "version": "3.6.13"
  }
 },
 "nbformat": 4,
 "nbformat_minor": 5
}
